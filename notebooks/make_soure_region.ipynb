{
 "cells": [
  {
   "attachments": {},
   "cell_type": "markdown",
   "metadata": {},
   "source": [
    "# Make a Source Region for WAM-2Layers"
   ]
  },
  {
   "cell_type": "code",
   "execution_count": null,
   "metadata": {},
   "outputs": [],
   "source": [
    "from wam2layers.utils.source_region import mask_with_shapefile, mask_around_point, mask_with_regionmask"
   ]
  },
  {
   "attachments": {},
   "cell_type": "markdown",
   "metadata": {},
   "source": [
<<<<<<< HEAD
    "In this Jupyter Notebook you can make a Source Region to be used in the WAM-2Layers model. A source region is defined as a region with zeros and ones. The regions with the value 1 are recognised by the model to track the precipitation events (in case of backtracking) from this region solely. The regions where from where no precipitation should be tracked, are denoted as 0.\n",
=======
    "In this Jupyter Notebook you can make a Source Region to be used in the WAM-2Layers model. A source region is defined as a region with zeros and ones. The regions with the value 1 are recognised by the model to track the precipitation events (in case of backward tracking) from this region solely. The regions where from where no precipitation should be tracked, are denoted as 0.\n",
>>>>>>> 52460b15810902cc2f409f14697b08bd3231a3f7
    "\n",
    "Specify below the necessary directories and functions to be used. Use the `help`  to check the specific options. \n",
    "\n",
    "`help(mask_with_shapefile)`\n",
    "`help(mask_around_point)`\n",
    "`help(mask_with_regionmask)`\n",
    "\n",
    "A preview of the designed region will be generated below as a check. \n",
    "\n",
    "For any questions, feel free to get in touch via the GitHub Discussion form. "
   ]
  },
  {
   "cell_type": "code",
   "execution_count": null,
   "metadata": {},
   "outputs": [],
   "source": [
    "#Specify Input\n",
    "input_file = \"F:/.../2022-08-30_fluxes_storages.nc\"\n",
    "output_file = \"F:/.../source_region.nc\"\n",
    "shapefile = \"F:/.../hybas_af_lev01_v1c.shp\"\n",
    "\n",
    "#Run\n",
    "#mask_with_regionmask('ar6.land',[22],input_file, output_file, return_plot=True)\n",
    "mask_with_shapefile(shapefile,False,input_file, output_file, return_plot=True)\n",
    "#mask_around_point((51, 5), 5, input_file, output_file, return_plot=True)"
   ]
  },
  {
   "cell_type": "code",
   "execution_count": null,
   "metadata": {},
   "outputs": [],
   "source": []
  }
 ],
 "metadata": {
  "kernelspec": {
   "display_name": "wamenv",
   "language": "python",
   "name": "python3"
  },
  "language_info": {
   "codemirror_mode": {
    "name": "ipython",
    "version": 3
   },
   "file_extension": ".py",
   "mimetype": "text/x-python",
   "name": "python",
   "nbconvert_exporter": "python",
   "pygments_lexer": "ipython3",
   "version": "3.9.13"
  },
  "orig_nbformat": 4
 },
 "nbformat": 4,
 "nbformat_minor": 2
}
