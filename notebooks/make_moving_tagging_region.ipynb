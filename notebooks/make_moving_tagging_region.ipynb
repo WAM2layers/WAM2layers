{
 "cells": [
  {
   "cell_type": "markdown",
   "metadata": {},
   "source": [
    "# Make a Source Region for WAM2layers"
   ]
  },
  {
   "cell_type": "code",
   "execution_count": 5,
   "metadata": {},
   "outputs": [],
   "source": [
    "from wam2layers.utils.tagging_region import mask_with_shapefile, mask_around_point, mask_with_regionmask, mask_around_track"
   ]
  },
  {
   "cell_type": "markdown",
   "metadata": {},
   "source": [
    "In this Jupyter Notebook you can make a Source Region to be used in the WAM2layers model. A source region is defined as a region with zeros and ones. The regions with the value 1 are recognised by the model to track the precipitation events (in case of backtracking) from this region solely. The regions where from where no precipitation should be tracked, are denoted as 0.\n",
    "\n",
    "In this designer, a total of 3 methods can be used, which are:\n",
    "    \n",
    "- Method 1: Using the available regions from the 'region mask' Python package.\n",
    "Here, available regions from the 'Region Mask' Python package (https://regionmask.readthedocs.io/en/stable/defined_scientific.html)\n",
    "are used. You are able to specify one or multiple source regions.\n",
    "    \n",
    "- Method 2: Using a shapefile combined with 'geopandas' and the 'region mask' Python package.\n",
    "    Here, an available source region shapefile (downloaded from an online source) can be implemented.\n",
    "    You are available to specify 1 specific region, or connect multiple (or multiple layers) of the\n",
    "    shapefile as source region.\n",
    "    Shapefiles can be retrieved from various sources, a good source is the HydroSHEDS data of the World Wide\n",
    "    Fund for Nature (WWF). The HydroSHEDS data supplies shapefiles of numerous river basins:\n",
    "    Can be obtained via https://www.hydrosheds.org/products/hydrobasins.\n",
    "    Lehner, B., Grill G. (2013): Global river hydrography and network routing: baseline data and\n",
    "    new approaches to study the world’s large river systems. Hydrological Processes, 27(15):\n",
    "    2171–2186. Data is available at www.hydrosheds.org.\n",
    "    NOTE: The data from HydroSHEDS is provided in Pfafstetter coded level. The shapefile becomes more complex,\n",
    "    e.g., more smaller regions are drawn, with each increment in level (higher level). See documentation for\n",
    "    more information.\n",
    "    \n",
    "- Method 3: Center point and a squared perimeter around it.\n",
    "    Here, a set center point (see settings) is set, after which a squared region (depending on the number of degrees)\n",
    "    is drawn around this center point. Take care that no emphasis is set on borders between sea/land.\n",
    "\n",
    "Specify below the necessary directories and functions to be used. Use the `help`  to check the specific options: \n",
    "\n",
    "`help(mask_with_regionmask)`\n",
    "\n",
    "`help(mask_with_shapefile)`\n",
    "\n",
    "`help(mask_around_point)`\n",
    "\n",
    "A preview of the designed region will be generated below as a check. "
   ]
  },
  {
   "cell_type": "code",
   "execution_count": 3,
   "metadata": {},
   "outputs": [],
   "source": [
    "#Read track\n",
    "import numpy as np \n",
    "import pandas as pd\n",
    "dates = np.loadtxt('Track_532932.0.txt',usecols=0,skiprows=1,dtype=str)\n",
    "times = np.loadtxt('Track_532932.0.txt',usecols=1,skiprows=1,dtype=str)\n",
    "reltimes = np.loadtxt('Track_532932.0.txt',usecols=2,skiprows=1,dtype=str)\n",
    "lons = np.loadtxt('Track_532932.0.txt',usecols=3,skiprows=1,dtype=str)\n",
    "lats = np.loadtxt('Track_532932.0.txt',usecols=4,skiprows=1,dtype=str)\n",
    "presmin =  np.loadtxt('Track_532932.0.txt',usecols=5,skiprows=1,dtype=str)"
   ]
  },
  {
   "cell_type": "code",
   "execution_count": 6,
   "metadata": {},
   "outputs": [],
   "source": [
    "centerpoints = [(float(lat), float(lon)) for (lat, lon) in zip(lats, lons)]\n",
    "dttimes = [date + ' ' + time for (date, time) in zip(dates, times)]\n",
    "dttimes = pd.to_datetime(dttimes)\n",
    "\n",
    "input_file = \"/projects/0/prjs0202/ERA5data/2019/05/ERA5_2019-05-04_ml_q.nc\"\n",
    "output_dir = \"tracking_region_trackExample.nc\"\n",
    "\n",
    "mask_around_track(centerpoints,dttimes,10.0,input_file,output_dir,return_plot=False)"
   ]
  }
 ],
 "metadata": {
  "kernelspec": {
   "display_name": "wam2layers",
   "language": "python",
   "name": "wam2layers"
  },
  "language_info": {
   "codemirror_mode": {
    "name": "ipython",
    "version": 3
   },
   "file_extension": ".py",
   "mimetype": "text/x-python",
   "name": "python",
   "nbconvert_exporter": "python",
   "pygments_lexer": "ipython3",
   "version": "3.10.13"
  }
 },
 "nbformat": 4,
 "nbformat_minor": 4
}
