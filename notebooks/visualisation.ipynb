{
 "cells": [
  {
   "attachments": {},
   "cell_type": "markdown",
   "metadata": {},
   "source": [
    "# Basic Visualisation"
   ]
  },
  {
   "cell_type": "code",
   "execution_count": 2,
   "metadata": {},
   "outputs": [],
   "source": [
    "from wam2layers.utils.Visualisation_Functions import logfile,precipitation,evaporation,moisture_fluxes"
   ]
  },
  {
   "attachments": {},
   "cell_type": "markdown",
   "metadata": {},
   "source": [
    "In this Jupyter Notebook you can perform basic but neat visualisation and analysis on your data. \n",
    "\n",
    "The following functions are prescribed: \n",
    "\n",
    "- Logfile. This function provides a logfile (.txt) with the evaporation recycling ratio (evaporated water that returns as precipitation), pecipitation recycling ratio (region�s dependence on evaporation from within the region for precipitation), sum of the precipitation, evaporation and their respective absolute differnce. This distance should be kept to a minimum and can be used as a check whether the model is operated correctly. \n",
    "\n",
    "- Precipitation. This function develops a figure showing the precipitation events tracked by WAM2Layers. It visualises the source region accompanied by the precipitation. \n",
    "\n",
    "- Evaporation. This function develops a figure showing the tracked evaporation (showing source and sinks) from the source region, with the accompanying moisture fluxes (arrows) and mean surface pressure (contours in hPa).\n",
    "\n",
    "- Moisture_fluxes. This function develops figures showing the mean moisture fluxes (arrows) with their corresponding magnitude (contours). It develops a figure for a specific time range and for both the lower and upper layer of the model (seperated by the p_divide). \n",
    "\n",
    "Specify below the necessary directories and functions to be used. Use the \"help\" to check the specific options. \n",
    "\n",
    "For any questions, feel free to get in touch via the GitHub Discussion form. "
   ]
  },
  {
   "cell_type": "code",
   "execution_count": null,
   "metadata": {},
   "outputs": [],
   "source": [
    "#Specify Input\n",
    "config_file = '....yaml'    #Location of the configuration '.yaml' file, in the file everything should be specified accordingly. \n",
    "outdir = '...'                                   #Location where the output is stored e.g. a visualistion folder. \n",
    "filename = '...'\n",
    "data_path = '...'\n",
    "\n",
    "#run\n",
    "# logfile(config_file,filename,outdir)\n",
    "# precipitation(config_file,filename,outdir, step = 20, fontsizes = 20, pads = 40)\n",
    "# evaporation(config_file,filename,data_path,outdir, step = 5, fontsizes = 20, pads = 40)\n",
    "# moisture_fluxes(config_file,filename,data_path,outdir, step = 60, fontsizes = 20, pads = 40)"
   ]
  }
 ],
 "metadata": {
  "kernelspec": {
   "display_name": "wamenv",
   "language": "python",
   "name": "python3"
  },
  "language_info": {
   "codemirror_mode": {
    "name": "ipython",
    "version": 3
   },
   "file_extension": ".py",
   "mimetype": "text/x-python",
   "name": "python",
   "nbconvert_exporter": "python",
   "pygments_lexer": "ipython3",
   "version": "3.9.16"
  },
  "orig_nbformat": 4
 },
 "nbformat": 4,
 "nbformat_minor": 2
}
