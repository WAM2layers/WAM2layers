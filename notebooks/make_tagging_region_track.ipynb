{
 "cells": [
  {
   "cell_type": "markdown",
   "metadata": {},
   "source": [
    "# Make a Tagging Region for WAM2layers"
   ]
  },
  {
   "cell_type": "code",
   "execution_count": null,
   "metadata": {},
   "outputs": [],
   "source": [
    "from wam2layers.utils.tagging_region import mask_with_shapefile, mask_around_point, mask_with_regionmask, mask_around_track"
   ]
  },
  {
   "cell_type": "markdown",
   "metadata": {},
   "source": [
    "In this Jupyter Notebook you can make a Tagging Region to be used in the WAM2layers model. A tagging region is defined as a region with zeros and ones. The regions with the value 1 are recognised by the model to track the precipitation events (in case of backtracking) from this region solely. The regions where from where no precipitation should be tracked, are denoted as 0.\n",
    "\n",
    "In this designer, a total of 4 methods can be used, which are:\n",
    "    \n",
    "- Method 1: Using the available regions from the 'region mask' Python package.\n",
    "Here, available regions from the 'Region Mask' Python package (https://regionmask.readthedocs.io/en/stable/defined_scientific.html)\n",
    "are used. You are able to specify one or multiple tagging regions.\n",
    "    \n",
    "- Method 2: Using a shapefile combined with 'geopandas' and the 'region mask' Python package.\n",
    "    Here, an available tagging region shapefile (downloaded from an online source) can be implemented.\n",
    "    You are available to specify 1 specific region, or connect multiple (or multiple layers) of the\n",
    "    shapefile as tagging region.\n",
    "    Shapefiles can be retrieved from various sources, a good source is the HydroSHEDS data of the World Wide\n",
    "    Fund for Nature (WWF). The HydroSHEDS data supplies shapefiles of numerous river basins:\n",
    "    Can be obtained via https://www.hydrosheds.org/products/hydrobasins.\n",
    "    Lehner, B., Grill G. (2013): Global river hydrography and network routing: baseline data and\n",
    "    new approaches to study the world’s large river systems. Hydrological Processes, 27(15):\n",
    "    2171–2186. Data is available at www.hydrosheds.org.\n",
    "    NOTE: The data from HydroSHEDS is provided in Pfafstetter coded level. The shapefile becomes more complex,\n",
    "    e.g., more smaller regions are drawn, with each increment in level (higher level). See documentation for\n",
    "    more information.\n",
    "    \n",
    "- Method 3: Center point and a squared perimeter around it.\n",
    "    Here, a set center point (see settings) is set, after which a squared region (depending on the number of degrees)\n",
    "    is drawn around this center point. Take care that no emphasis is set on borders between sea/land.\n",
    "\n",
    "- Method 4: mask around a track. For example a pre-defined cyclone track, yielding a 3d tagging region. Experimental!\n",
    "\n",
    "Specify below the necessary directories and functions to be used. Use the `help`  to check the specific options: \n",
    "\n",
    "`help(mask_with_regionmask)`\n",
    "\n",
    "`help(mask_with_shapefile)`\n",
    "\n",
    "`help(mask_around_point)`\n",
    "\n",
    "`help(mask_around_track)`\n",
    "\n",
    "A preview of the designed region will be generated below as a check. "
   ]
  },
  {
   "cell_type": "code",
   "execution_count": null,
   "metadata": {},
   "outputs": [
    {
     "ename": "ValueError",
     "evalue": "numpy.nanmin raises on a.size==0 and axis=None; So Bottleneck too.",
     "output_type": "error",
     "traceback": [
      "\u001b[0;31m---------------------------------------------------------------------------\u001b[0m",
      "\u001b[0;31mValueError\u001b[0m                                Traceback (most recent call last)",
      "Cell \u001b[0;32mIn [3], line 6\u001b[0m\n\u001b[1;32m      3\u001b[0m input_file \u001b[38;5;241m=\u001b[39m \u001b[38;5;124m\"\u001b[39m\u001b[38;5;124m/projects/0/prjs0202/ERA5data/2012/07/ERA5_2012-07-01_e.nc\u001b[39m\u001b[38;5;124m\"\u001b[39m\n\u001b[1;32m      5\u001b[0m output_dir \u001b[38;5;241m=\u001b[39m \u001b[38;5;124m\"\u001b[39m\u001b[38;5;124mtracking_region_Manus.nc\u001b[39m\u001b[38;5;124m\"\u001b[39m\n\u001b[0;32m----> 6\u001b[0m \u001b[43mmask_around_point\u001b[49m\u001b[43m(\u001b[49m\u001b[43m(\u001b[49m\u001b[38;5;241;43m-\u001b[39;49m\u001b[38;5;241;43m3.0\u001b[39;49m\u001b[43m,\u001b[49m\u001b[43m \u001b[49m\u001b[38;5;241;43m-\u001b[39;49m\u001b[38;5;241;43m60\u001b[39;49m\u001b[43m)\u001b[49m\u001b[43m,\u001b[49m\u001b[43m \u001b[49m\u001b[38;5;241;43m0.01\u001b[39;49m\u001b[43m,\u001b[49m\u001b[43m \u001b[49m\u001b[43minput_file\u001b[49m\u001b[43m,\u001b[49m\u001b[43m \u001b[49m\u001b[43moutput_dir\u001b[49m\u001b[43m,\u001b[49m\u001b[43m \u001b[49m\u001b[43mreturn_plot\u001b[49m\u001b[38;5;241;43m=\u001b[39;49m\u001b[38;5;28;43;01mTrue\u001b[39;49;00m\u001b[43m)\u001b[49m\n",
      "File \u001b[0;32m/gpfs/home2/cweijenborg/envs/WAM2layers/src/wam2layers/utils/source_region.py:361\u001b[0m, in \u001b[0;36mmask_around_point\u001b[0;34m(centerpoint, radius, reference_file, output_file, return_plot)\u001b[0m\n\u001b[1;32m    359\u001b[0m indices \u001b[38;5;241m=\u001b[39m export\u001b[38;5;241m.\u001b[39mwhere(export\u001b[38;5;241m.\u001b[39msource_region\u001b[38;5;241m==\u001b[39m\u001b[38;5;241m1\u001b[39m,drop\u001b[38;5;241m=\u001b[39m\u001b[38;5;28;01mTrue\u001b[39;00m)               \n\u001b[1;32m    360\u001b[0m ax\u001b[38;5;241m.\u001b[39mcontourf(longitude, latitude, mask_plot, levels\u001b[38;5;241m=\u001b[39m[\u001b[38;5;241m0.1\u001b[39m, \u001b[38;5;241m1\u001b[39m],zorder\u001b[38;5;241m=\u001b[39m\u001b[38;5;241m5\u001b[39m,alpha\u001b[38;5;241m=\u001b[39m\u001b[38;5;241m0.8\u001b[39m)\n\u001b[0;32m--> 361\u001b[0m ax\u001b[38;5;241m.\u001b[39mset_extent([\u001b[43mindices\u001b[49m\u001b[38;5;241;43m.\u001b[39;49m\u001b[43mlongitude\u001b[49m\u001b[38;5;241;43m.\u001b[39;49m\u001b[43mmin\u001b[49m\u001b[43m(\u001b[49m\u001b[43m)\u001b[49m\u001b[38;5;241m-\u001b[39m\u001b[38;5;241m10\u001b[39m,indices\u001b[38;5;241m.\u001b[39mlongitude\u001b[38;5;241m.\u001b[39mmax()\u001b[38;5;241m+\u001b[39m\u001b[38;5;241m10\u001b[39m,indices\u001b[38;5;241m.\u001b[39mlatitude\u001b[38;5;241m.\u001b[39mmin()\u001b[38;5;241m-\u001b[39m\u001b[38;5;241m10\u001b[39m,indices\u001b[38;5;241m.\u001b[39mlatitude\u001b[38;5;241m.\u001b[39mmax()\u001b[38;5;241m+\u001b[39m\u001b[38;5;241m10\u001b[39m])\n\u001b[1;32m    363\u001b[0m ax\u001b[38;5;241m.\u001b[39mplot(\n\u001b[1;32m    364\u001b[0m     center_lon,\n\u001b[1;32m    365\u001b[0m     center_lat,\n\u001b[0;32m   (...)\u001b[0m\n\u001b[1;32m    371\u001b[0m     zorder \u001b[38;5;241m=\u001b[39m \u001b[38;5;241m6\u001b[39m,\n\u001b[1;32m    372\u001b[0m )\n\u001b[1;32m    374\u001b[0m \u001b[38;5;66;03m# Grid\u001b[39;00m\n",
      "File \u001b[0;32m~/.conda/envs/wam2layers/lib/python3.10/site-packages/xarray/core/_aggregations.py:1579\u001b[0m, in \u001b[0;36mDataArrayAggregations.min\u001b[0;34m(self, dim, skipna, keep_attrs, **kwargs)\u001b[0m\n\u001b[1;32m   1508\u001b[0m \u001b[38;5;28;01mdef\u001b[39;00m \u001b[38;5;21mmin\u001b[39m(\n\u001b[1;32m   1509\u001b[0m     \u001b[38;5;28mself\u001b[39m,\n\u001b[1;32m   1510\u001b[0m     dim: Dims \u001b[38;5;241m=\u001b[39m \u001b[38;5;28;01mNone\u001b[39;00m,\n\u001b[0;32m   (...)\u001b[0m\n\u001b[1;32m   1514\u001b[0m     \u001b[38;5;241m*\u001b[39m\u001b[38;5;241m*\u001b[39mkwargs: Any,\n\u001b[1;32m   1515\u001b[0m ) \u001b[38;5;241m-\u001b[39m\u001b[38;5;241m>\u001b[39m DataArray:\n\u001b[1;32m   1516\u001b[0m \u001b[38;5;250m    \u001b[39m\u001b[38;5;124;03m\"\"\"\u001b[39;00m\n\u001b[1;32m   1517\u001b[0m \u001b[38;5;124;03m    Reduce this DataArray's data by applying ``min`` along some dimension(s).\u001b[39;00m\n\u001b[1;32m   1518\u001b[0m \n\u001b[0;32m   (...)\u001b[0m\n\u001b[1;32m   1577\u001b[0m \u001b[38;5;124;03m    array(nan)\u001b[39;00m\n\u001b[1;32m   1578\u001b[0m \u001b[38;5;124;03m    \"\"\"\u001b[39;00m\n\u001b[0;32m-> 1579\u001b[0m     \u001b[38;5;28;01mreturn\u001b[39;00m \u001b[38;5;28;43mself\u001b[39;49m\u001b[38;5;241;43m.\u001b[39;49m\u001b[43mreduce\u001b[49m\u001b[43m(\u001b[49m\n\u001b[1;32m   1580\u001b[0m \u001b[43m        \u001b[49m\u001b[43mduck_array_ops\u001b[49m\u001b[38;5;241;43m.\u001b[39;49m\u001b[43mmin\u001b[49m\u001b[43m,\u001b[49m\n\u001b[1;32m   1581\u001b[0m \u001b[43m        \u001b[49m\u001b[43mdim\u001b[49m\u001b[38;5;241;43m=\u001b[39;49m\u001b[43mdim\u001b[49m\u001b[43m,\u001b[49m\n\u001b[1;32m   1582\u001b[0m \u001b[43m        \u001b[49m\u001b[43mskipna\u001b[49m\u001b[38;5;241;43m=\u001b[39;49m\u001b[43mskipna\u001b[49m\u001b[43m,\u001b[49m\n\u001b[1;32m   1583\u001b[0m \u001b[43m        \u001b[49m\u001b[43mkeep_attrs\u001b[49m\u001b[38;5;241;43m=\u001b[39;49m\u001b[43mkeep_attrs\u001b[49m\u001b[43m,\u001b[49m\n\u001b[1;32m   1584\u001b[0m \u001b[43m        \u001b[49m\u001b[38;5;241;43m*\u001b[39;49m\u001b[38;5;241;43m*\u001b[39;49m\u001b[43mkwargs\u001b[49m\u001b[43m,\u001b[49m\n\u001b[1;32m   1585\u001b[0m \u001b[43m    \u001b[49m\u001b[43m)\u001b[49m\n",
      "File \u001b[0;32m~/.conda/envs/wam2layers/lib/python3.10/site-packages/xarray/core/dataarray.py:3657\u001b[0m, in \u001b[0;36mDataArray.reduce\u001b[0;34m(self, func, dim, axis, keep_attrs, keepdims, **kwargs)\u001b[0m\n\u001b[1;32m   3613\u001b[0m \u001b[38;5;28;01mdef\u001b[39;00m \u001b[38;5;21mreduce\u001b[39m(\n\u001b[1;32m   3614\u001b[0m     \u001b[38;5;28mself\u001b[39m: T_DataArray,\n\u001b[1;32m   3615\u001b[0m     func: Callable[\u001b[38;5;241m.\u001b[39m\u001b[38;5;241m.\u001b[39m\u001b[38;5;241m.\u001b[39m, Any],\n\u001b[0;32m   (...)\u001b[0m\n\u001b[1;32m   3621\u001b[0m     \u001b[38;5;241m*\u001b[39m\u001b[38;5;241m*\u001b[39mkwargs: Any,\n\u001b[1;32m   3622\u001b[0m ) \u001b[38;5;241m-\u001b[39m\u001b[38;5;241m>\u001b[39m T_DataArray:\n\u001b[1;32m   3623\u001b[0m \u001b[38;5;250m    \u001b[39m\u001b[38;5;124;03m\"\"\"Reduce this array by applying `func` along some dimension(s).\u001b[39;00m\n\u001b[1;32m   3624\u001b[0m \n\u001b[1;32m   3625\u001b[0m \u001b[38;5;124;03m    Parameters\u001b[39;00m\n\u001b[0;32m   (...)\u001b[0m\n\u001b[1;32m   3654\u001b[0m \u001b[38;5;124;03m        summarized data and the indicated dimension(s) removed.\u001b[39;00m\n\u001b[1;32m   3655\u001b[0m \u001b[38;5;124;03m    \"\"\"\u001b[39;00m\n\u001b[0;32m-> 3657\u001b[0m     var \u001b[38;5;241m=\u001b[39m \u001b[38;5;28;43mself\u001b[39;49m\u001b[38;5;241;43m.\u001b[39;49m\u001b[43mvariable\u001b[49m\u001b[38;5;241;43m.\u001b[39;49m\u001b[43mreduce\u001b[49m\u001b[43m(\u001b[49m\u001b[43mfunc\u001b[49m\u001b[43m,\u001b[49m\u001b[43m \u001b[49m\u001b[43mdim\u001b[49m\u001b[43m,\u001b[49m\u001b[43m \u001b[49m\u001b[43maxis\u001b[49m\u001b[43m,\u001b[49m\u001b[43m \u001b[49m\u001b[43mkeep_attrs\u001b[49m\u001b[43m,\u001b[49m\u001b[43m \u001b[49m\u001b[43mkeepdims\u001b[49m\u001b[43m,\u001b[49m\u001b[43m \u001b[49m\u001b[38;5;241;43m*\u001b[39;49m\u001b[38;5;241;43m*\u001b[39;49m\u001b[43mkwargs\u001b[49m\u001b[43m)\u001b[49m\n\u001b[1;32m   3658\u001b[0m     \u001b[38;5;28;01mreturn\u001b[39;00m \u001b[38;5;28mself\u001b[39m\u001b[38;5;241m.\u001b[39m_replace_maybe_drop_dims(var)\n",
      "File \u001b[0;32m~/.conda/envs/wam2layers/lib/python3.10/site-packages/xarray/core/variable.py:1949\u001b[0m, in \u001b[0;36mVariable.reduce\u001b[0;34m(self, func, dim, axis, keep_attrs, keepdims, **kwargs)\u001b[0m\n\u001b[1;32m   1947\u001b[0m         data \u001b[38;5;241m=\u001b[39m func(\u001b[38;5;28mself\u001b[39m\u001b[38;5;241m.\u001b[39mdata, axis\u001b[38;5;241m=\u001b[39maxis, \u001b[38;5;241m*\u001b[39m\u001b[38;5;241m*\u001b[39mkwargs)\n\u001b[1;32m   1948\u001b[0m     \u001b[38;5;28;01melse\u001b[39;00m:\n\u001b[0;32m-> 1949\u001b[0m         data \u001b[38;5;241m=\u001b[39m \u001b[43mfunc\u001b[49m\u001b[43m(\u001b[49m\u001b[38;5;28;43mself\u001b[39;49m\u001b[38;5;241;43m.\u001b[39;49m\u001b[43mdata\u001b[49m\u001b[43m,\u001b[49m\u001b[43m \u001b[49m\u001b[38;5;241;43m*\u001b[39;49m\u001b[38;5;241;43m*\u001b[39;49m\u001b[43mkwargs\u001b[49m\u001b[43m)\u001b[49m\n\u001b[1;32m   1951\u001b[0m \u001b[38;5;28;01mif\u001b[39;00m \u001b[38;5;28mgetattr\u001b[39m(data, \u001b[38;5;124m\"\u001b[39m\u001b[38;5;124mshape\u001b[39m\u001b[38;5;124m\"\u001b[39m, ()) \u001b[38;5;241m==\u001b[39m \u001b[38;5;28mself\u001b[39m\u001b[38;5;241m.\u001b[39mshape:\n\u001b[1;32m   1952\u001b[0m     dims \u001b[38;5;241m=\u001b[39m \u001b[38;5;28mself\u001b[39m\u001b[38;5;241m.\u001b[39mdims\n",
      "File \u001b[0;32m~/.conda/envs/wam2layers/lib/python3.10/site-packages/xarray/core/duck_array_ops.py:370\u001b[0m, in \u001b[0;36m_create_nan_agg_method.<locals>.f\u001b[0;34m(values, axis, skipna, **kwargs)\u001b[0m\n\u001b[1;32m    368\u001b[0m     \u001b[38;5;28;01mwith\u001b[39;00m warnings\u001b[38;5;241m.\u001b[39mcatch_warnings():\n\u001b[1;32m    369\u001b[0m         warnings\u001b[38;5;241m.\u001b[39mfilterwarnings(\u001b[38;5;124m\"\u001b[39m\u001b[38;5;124mignore\u001b[39m\u001b[38;5;124m\"\u001b[39m, \u001b[38;5;124m\"\u001b[39m\u001b[38;5;124mAll-NaN slice encountered\u001b[39m\u001b[38;5;124m\"\u001b[39m)\n\u001b[0;32m--> 370\u001b[0m         \u001b[38;5;28;01mreturn\u001b[39;00m \u001b[43mfunc\u001b[49m\u001b[43m(\u001b[49m\u001b[43mvalues\u001b[49m\u001b[43m,\u001b[49m\u001b[43m \u001b[49m\u001b[43maxis\u001b[49m\u001b[38;5;241;43m=\u001b[39;49m\u001b[43maxis\u001b[49m\u001b[43m,\u001b[49m\u001b[43m \u001b[49m\u001b[38;5;241;43m*\u001b[39;49m\u001b[38;5;241;43m*\u001b[39;49m\u001b[43mkwargs\u001b[49m\u001b[43m)\u001b[49m\n\u001b[1;32m    371\u001b[0m \u001b[38;5;28;01mexcept\u001b[39;00m \u001b[38;5;167;01mAttributeError\u001b[39;00m:\n\u001b[1;32m    372\u001b[0m     \u001b[38;5;28;01mif\u001b[39;00m \u001b[38;5;129;01mnot\u001b[39;00m is_duck_dask_array(values):\n",
      "File \u001b[0;32m~/.conda/envs/wam2layers/lib/python3.10/site-packages/xarray/core/nanops.py:59\u001b[0m, in \u001b[0;36mnanmin\u001b[0;34m(a, axis, out)\u001b[0m\n\u001b[1;32m     56\u001b[0m \u001b[38;5;28;01mif\u001b[39;00m a\u001b[38;5;241m.\u001b[39mdtype\u001b[38;5;241m.\u001b[39mkind \u001b[38;5;241m==\u001b[39m \u001b[38;5;124m\"\u001b[39m\u001b[38;5;124mO\u001b[39m\u001b[38;5;124m\"\u001b[39m:\n\u001b[1;32m     57\u001b[0m     \u001b[38;5;28;01mreturn\u001b[39;00m _nan_minmax_object(\u001b[38;5;124m\"\u001b[39m\u001b[38;5;124mmin\u001b[39m\u001b[38;5;124m\"\u001b[39m, dtypes\u001b[38;5;241m.\u001b[39mget_pos_infinity(a\u001b[38;5;241m.\u001b[39mdtype), a, axis)\n\u001b[0;32m---> 59\u001b[0m \u001b[38;5;28;01mreturn\u001b[39;00m \u001b[43mnputils\u001b[49m\u001b[38;5;241;43m.\u001b[39;49m\u001b[43mnanmin\u001b[49m\u001b[43m(\u001b[49m\u001b[43ma\u001b[49m\u001b[43m,\u001b[49m\u001b[43m \u001b[49m\u001b[43maxis\u001b[49m\u001b[38;5;241;43m=\u001b[39;49m\u001b[43maxis\u001b[49m\u001b[43m)\u001b[49m\n",
      "File \u001b[0;32m~/.conda/envs/wam2layers/lib/python3.10/site-packages/xarray/core/nputils.py:155\u001b[0m, in \u001b[0;36m_create_bottleneck_method.<locals>.f\u001b[0;34m(values, axis, **kwargs)\u001b[0m\n\u001b[1;32m    143\u001b[0m \u001b[38;5;28;01mif\u001b[39;00m (\n\u001b[1;32m    144\u001b[0m     _USE_BOTTLENECK\n\u001b[1;32m    145\u001b[0m     \u001b[38;5;129;01mand\u001b[39;00m OPTIONS[\u001b[38;5;124m\"\u001b[39m\u001b[38;5;124muse_bottleneck\u001b[39m\u001b[38;5;124m\"\u001b[39m]\n\u001b[0;32m   (...)\u001b[0m\n\u001b[1;32m    152\u001b[0m ):\n\u001b[1;32m    153\u001b[0m     \u001b[38;5;66;03m# bottleneck does not take care dtype, min_count\u001b[39;00m\n\u001b[1;32m    154\u001b[0m     kwargs\u001b[38;5;241m.\u001b[39mpop(\u001b[38;5;124m\"\u001b[39m\u001b[38;5;124mdtype\u001b[39m\u001b[38;5;124m\"\u001b[39m, \u001b[38;5;28;01mNone\u001b[39;00m)\n\u001b[0;32m--> 155\u001b[0m     result \u001b[38;5;241m=\u001b[39m \u001b[43mbn_func\u001b[49m\u001b[43m(\u001b[49m\u001b[43mvalues\u001b[49m\u001b[43m,\u001b[49m\u001b[43m \u001b[49m\u001b[43maxis\u001b[49m\u001b[38;5;241;43m=\u001b[39;49m\u001b[43maxis\u001b[49m\u001b[43m,\u001b[49m\u001b[43m \u001b[49m\u001b[38;5;241;43m*\u001b[39;49m\u001b[38;5;241;43m*\u001b[39;49m\u001b[43mkwargs\u001b[49m\u001b[43m)\u001b[49m\n\u001b[1;32m    156\u001b[0m \u001b[38;5;28;01melse\u001b[39;00m:\n\u001b[1;32m    157\u001b[0m     result \u001b[38;5;241m=\u001b[39m \u001b[38;5;28mgetattr\u001b[39m(npmodule, name)(values, axis\u001b[38;5;241m=\u001b[39maxis, \u001b[38;5;241m*\u001b[39m\u001b[38;5;241m*\u001b[39mkwargs)\n",
      "\u001b[0;31mValueError\u001b[0m: numpy.nanmin raises on a.size==0 and axis=None; So Bottleneck too."
     ]
    }
   ],
   "source": [
    "#Specify Input\n",
    "#input_file = \"/projects/0/prjs0202/ERA5data/2019/07/ERA5_2019-07-01_ml_q.nc\"\n",
    "#input_file = \"/projects/0/prjs0202/ERA5data/2012/07/ERA5_2012-07-01_e.nc\"\n",
    "\n",
    "#output_dir = \"tagging_region_Manus.nc\"\n",
    "#mask_around_point((-3.0, -60), 0.01, input_file, output_dir, return_plot=True)\n",
    "\n"
   ]
  },
  {
   "cell_type": "code",
   "execution_count": 5,
   "metadata": {},
   "outputs": [],
   "source": [
    "#Read track\n",
    "import numpy as np \n",
    "dates = np.loadtxt('Track_532932.0.txt',usecols=0,skiprows=1,dtype=str)\n",
    "times = np.loadtxt('Track_532932.0.txt',usecols=1,skiprows=1,dtype=str)\n",
    "reltimes = np.loadtxt('Track_532932.0.txt',usecols=2,skiprows=1,dtype=str)\n",
    "lons = np.loadtxt('Track_532932.0.txt',usecols=3,skiprows=1,dtype=str)\n",
    "lats = np.loadtxt('Track_532932.0.txt',usecols=4,skiprows=1,dtype=str)\n",
    "presmin =  np.loadtxt('Track_532932.0.txt',usecols=5,skiprows=1,dtype=str)"
   ]
  },
  {
   "cell_type": "code",
   "execution_count": null,
   "metadata": {},
   "outputs": [],
   "source": [
    "centerpoints = [(float(lat), float(lon)) for (lat, lon) in zip(lats, lons)]\n",
    "dttimes = [date + ' ' + time for (date, time) in zip(dates, times)]\n",
    "dttimes = pd.to_datetime(dttimes)\n",
    "\n",
    "\n",
    "input_file = \"/projects/0/prjs0202/ERA5data/2019/07/ERA5_2019-07-01_ml_q.nc\"\n",
    "output_dir = \"tagging_region_trackExample.nc\"\n",
    "\n",
    "mask_around_track(centerpoints,10.0,input_file,output_dir,return_plot=False)"
   ]
  },
  {
   "cell_type": "code",
   "execution_count": 35,
   "metadata": {},
   "outputs": [
    {
     "ename": "UFuncTypeError",
     "evalue": "ufunc 'add' did not contain a loop with signature matching types (dtype('<U10'), dtype('<U1')) -> None",
     "output_type": "error",
     "traceback": [
      "\u001b[0;31m---------------------------------------------------------------------------\u001b[0m",
      "\u001b[0;31mUFuncTypeError\u001b[0m                            Traceback (most recent call last)",
      "Cell \u001b[0;32mIn [35], line 2\u001b[0m\n\u001b[1;32m      1\u001b[0m \u001b[38;5;28;01mimport\u001b[39;00m \u001b[38;5;21;01mpandas\u001b[39;00m \u001b[38;5;28;01mas\u001b[39;00m \u001b[38;5;21;01mpd\u001b[39;00m\n\u001b[0;32m----> 2\u001b[0m pd\u001b[38;5;241m.\u001b[39mto_datetime(\u001b[43mdates\u001b[49m\u001b[43m \u001b[49m\u001b[38;5;241;43m+\u001b[39;49m\u001b[43m \u001b[49m\u001b[38;5;124;43m'\u001b[39;49m\u001b[38;5;124;43m \u001b[39;49m\u001b[38;5;124;43m'\u001b[39;49m \u001b[38;5;241m+\u001b[39m times)\n",
      "\u001b[0;31mUFuncTypeError\u001b[0m: ufunc 'add' did not contain a loop with signature matching types (dtype('<U10'), dtype('<U1')) -> None"
     ]
    }
   ],
   "source": [
    "import pandas as pd\n",
    "pd.to_datetime(dates + ' ' + times)"
   ]
  },
  {
   "cell_type": "code",
   "execution_count": 30,
   "metadata": {},
   "outputs": [],
   "source": []
  },
  {
   "cell_type": "code",
   "execution_count": 31,
   "metadata": {},
   "outputs": [
    {
     "data": {
      "text/plain": [
       "['2019-05-04 23:00:00',\n",
       " '2019-05-05 00:00:00',\n",
       " '2019-05-05 01:00:00',\n",
       " '2019-05-05 02:00:00',\n",
       " '2019-05-05 03:00:00',\n",
       " '2019-05-05 04:00:00',\n",
       " '2019-05-05 05:00:00',\n",
       " '2019-05-05 06:00:00',\n",
       " '2019-05-05 07:00:00',\n",
       " '2019-05-05 08:00:00',\n",
       " '2019-05-05 09:00:00',\n",
       " '2019-05-05 10:00:00',\n",
       " '2019-05-05 11:00:00',\n",
       " '2019-05-05 12:00:00',\n",
       " '2019-05-05 13:00:00',\n",
       " '2019-05-05 14:00:00',\n",
       " '2019-05-05 15:00:00',\n",
       " '2019-05-05 16:00:00',\n",
       " '2019-05-05 17:00:00',\n",
       " '2019-05-05 18:00:00',\n",
       " '2019-05-05 19:00:00',\n",
       " '2019-05-05 20:00:00',\n",
       " '2019-05-05 21:00:00',\n",
       " '2019-05-05 22:00:00',\n",
       " '2019-05-05 23:00:00',\n",
       " '2019-05-06 00:00:00',\n",
       " '2019-05-06 01:00:00',\n",
       " '2019-05-06 02:00:00',\n",
       " '2019-05-06 03:00:00',\n",
       " '2019-05-06 04:00:00',\n",
       " '2019-05-06 05:00:00',\n",
       " '2019-05-06 06:00:00',\n",
       " '2019-05-06 07:00:00',\n",
       " '2019-05-06 08:00:00',\n",
       " '2019-05-06 09:00:00',\n",
       " '2019-05-06 10:00:00',\n",
       " '2019-05-06 11:00:00',\n",
       " '2019-05-06 12:00:00',\n",
       " '2019-05-06 13:00:00',\n",
       " '2019-05-06 14:00:00',\n",
       " '2019-05-06 15:00:00',\n",
       " '2019-05-06 16:00:00',\n",
       " '2019-05-06 17:00:00',\n",
       " '2019-05-06 18:00:00',\n",
       " '2019-05-06 19:00:00',\n",
       " '2019-05-06 20:00:00',\n",
       " '2019-05-06 21:00:00',\n",
       " '2019-05-06 22:00:00',\n",
       " '2019-05-06 23:00:00',\n",
       " '2019-05-07 00:00:00',\n",
       " '2019-05-07 01:00:00',\n",
       " '2019-05-07 02:00:00',\n",
       " '2019-05-07 03:00:00',\n",
       " '2019-05-07 04:00:00',\n",
       " '2019-05-07 05:00:00',\n",
       " '2019-05-07 06:00:00',\n",
       " '2019-05-07 07:00:00',\n",
       " '2019-05-07 08:00:00',\n",
       " '2019-05-07 09:00:00',\n",
       " '2019-05-07 10:00:00',\n",
       " '2019-05-07 11:00:00',\n",
       " '2019-05-07 12:00:00',\n",
       " '2019-05-07 13:00:00',\n",
       " '2019-05-07 14:00:00',\n",
       " '2019-05-07 15:00:00',\n",
       " '2019-05-07 16:00:00',\n",
       " '2019-05-07 17:00:00',\n",
       " '2019-05-07 18:00:00',\n",
       " '2019-05-07 19:00:00',\n",
       " '2019-05-07 20:00:00',\n",
       " '2019-05-07 21:00:00',\n",
       " '2019-05-07 22:00:00',\n",
       " '2019-05-07 23:00:00',\n",
       " '2019-05-08 00:00:00',\n",
       " '2019-05-08 01:00:00',\n",
       " '2019-05-08 02:00:00',\n",
       " '2019-05-08 03:00:00',\n",
       " '2019-05-08 04:00:00',\n",
       " '2019-05-08 05:00:00',\n",
       " '2019-05-08 06:00:00',\n",
       " '2019-05-08 07:00:00',\n",
       " '2019-05-08 08:00:00',\n",
       " '2019-05-08 09:00:00',\n",
       " '2019-05-08 10:00:00',\n",
       " '2019-05-08 11:00:00',\n",
       " '2019-05-08 12:00:00',\n",
       " '2019-05-08 13:00:00',\n",
       " '2019-05-08 14:00:00',\n",
       " '2019-05-08 15:00:00',\n",
       " '2019-05-08 16:00:00',\n",
       " '2019-05-08 17:00:00',\n",
       " '2019-05-08 18:00:00',\n",
       " '2019-05-08 19:00:00',\n",
       " '2019-05-08 20:00:00',\n",
       " '2019-05-08 21:00:00',\n",
       " '2019-05-08 22:00:00',\n",
       " '2019-05-08 23:00:00',\n",
       " '2019-05-09 00:00:00',\n",
       " '2019-05-09 01:00:00',\n",
       " '2019-05-09 02:00:00',\n",
       " '2019-05-09 03:00:00',\n",
       " '2019-05-09 04:00:00',\n",
       " '2019-05-09 05:00:00',\n",
       " '2019-05-09 06:00:00',\n",
       " '2019-05-09 07:00:00',\n",
       " '2019-05-09 08:00:00',\n",
       " '2019-05-09 09:00:00',\n",
       " '2019-05-09 10:00:00',\n",
       " '2019-05-09 11:00:00',\n",
       " '2019-05-09 12:00:00']"
      ]
     },
     "execution_count": 31,
     "metadata": {},
     "output_type": "execute_result"
    }
   ],
   "source": [
    "dttimes"
   ]
  },
  {
   "cell_type": "code",
   "execution_count": null,
   "metadata": {},
   "outputs": [],
   "source": []
  }
 ],
 "metadata": {
  "kernelspec": {
   "display_name": "wam2layers",
   "language": "python",
   "name": "wam2layers"
  },
  "language_info": {
   "codemirror_mode": {
    "name": "ipython",
    "version": 3
   },
   "file_extension": ".py",
   "mimetype": "text/x-python",
   "name": "python",
   "nbconvert_exporter": "python",
   "pygments_lexer": "ipython3",
   "version": "3.10.13"
  }
 },
 "nbformat": 4,
 "nbformat_minor": 4
}
