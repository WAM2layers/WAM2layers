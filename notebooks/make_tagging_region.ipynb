{
 "cells": [
  {
   "cell_type": "markdown",
   "metadata": {},
   "source": [
    "# Make a Tagging Region for WAM2layers"
   ]
  },
  {
   "cell_type": "code",
   "execution_count": 1,
   "metadata": {},
   "outputs": [],
   "source": [
    "from wam2layers.utils.tagging_region import mask_with_shapefile, mask_around_point, mask_with_regionmask"
   ]
  },
  {
   "cell_type": "markdown",
   "metadata": {},
   "source": [
    "In this Jupyter Notebook you can make a Tagging Region to be used in the WAM2layers model. A tagging region is defined as a region with zeros and ones. The regions with the value 1 are recognised by the model to track the precipitation events (in case of backtracking) or evaporation (in case of forward tracking) from this region solely. The regions where from where no tracking should take place, are denoted as 0.\n",
    "\n",
    "In this designer, a total of 3 methods can be used, which are:\n",
    "    \n",
    "- Method 1: Using the available regions from the 'region mask' Python package.\n",
    "Here, available regions from the 'Region Mask' Python package (https://regionmask.readthedocs.io/en/stable/defined_scientific.html)\n",
    "are used. You are able to specify one or multiple regions.\n",
    "    \n",
    "- Method 2: Using a shapefile combined with 'geopandas' and the 'region mask' Python package.\n",
    "    Here, an available region shapefile (downloaded from an online source) can be implemented.\n",
    "    You are available to specify 1 specific region, or connect multiple (or multiple layers) of the\n",
    "    shapefile. Shapefiles can be retrieved from various sources, a good source is the HydroSHEDS data of the World Wide\n",
    "    Fund for Nature (WWF). The HydroSHEDS data supplies shapefiles of numerous river basins:\n",
    "    Can be obtained via https://www.hydrosheds.org/products/hydrobasins.\n",
    "    Lehner, B., Grill G. (2013): Global river hydrography and network routing: baseline data and\n",
    "    new approaches to study the world’s large river systems. Hydrological Processes, 27(15):\n",
    "    2171–2186. Data is available at www.hydrosheds.org.\n",
    "    NOTE: The data from HydroSHEDS is provided in Pfafstetter coded level. The shapefile becomes more complex,\n",
    "    e.g., more smaller regions are drawn, with each increment in level (higher level). See the HydroSHEDS documentation for\n",
    "    more information.\n",
    "    \n",
    "- Method 3: Center point and a squared perimeter around it.\n",
    "    Here, a set center point (see settings) is set, after which a squared region (depending on the number of degrees)\n",
    "    is drawn around this center point. Take care that no emphasis is set on borders between sea/land.\n",
    "\n",
    "Specify below the necessary directories and functions to be used. Use the `help`  to check the specific options: \n",
    "\n",
    "`help(mask_with_regionmask)`\n",
    "\n",
    "`help(mask_with_shapefile)`\n",
    "\n",
    "`help(mask_around_point)`\n",
    "\n",
    "A preview of the designed region will be generated below as a check. "
   ]
  },
  {
   "cell_type": "code",
   "execution_count": 4,
   "metadata": {},
   "outputs": [],
   "source": [
    "#Specify Input\n",
    "input_file = \"~/.../sample.nc\"\n",
    "output_dir = \"~/.../tracking_region.nc\"\n",
    "shapefile = \"~/.../personal_shapefile.shp\"\n",
    "\n",
    "#Run\n",
    "#mask_with_regionmask('ar6.all',[22],input_file, output_dir, return_plot=False)\n",
    "#mask_with_regionmask('prudence',[3],input_file, output_dir, return_plot=True)\n",
    "#mask_with_shapefile(shapefile,False,input_file, output_dir, return_plot=True)\n",
    "#mask_around_point((51, 5), 10, input_file, output_dir, return_plot=True)"
   ]
  }
 ],
 "metadata": {
  "kernelspec": {
   "display_name": "Python 3 (ipykernel)",
   "language": "python",
   "name": "python3"
  },
  "language_info": {
   "codemirror_mode": {
    "name": "ipython",
    "version": 3
   },
   "file_extension": ".py",
   "mimetype": "text/x-python",
   "name": "python",
   "nbconvert_exporter": "python",
   "pygments_lexer": "ipython3",
   "version": "3.9.16"
  }
 },
 "nbformat": 4,
 "nbformat_minor": 2
}
