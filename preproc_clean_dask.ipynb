{
 "cells": [
  {
   "cell_type": "code",
   "execution_count": 1,
   "id": "0a71a96f-a7ea-4170-b4ce-e774f6ac1c45",
   "metadata": {},
   "outputs": [],
   "source": [
    "from dask.distributed import Client"
   ]
  },
  {
   "cell_type": "code",
   "execution_count": 2,
   "id": "d097659b-eb04-4c5e-8915-fc4b6987e197",
   "metadata": {},
   "outputs": [
    {
     "name": "stderr",
     "output_type": "stream",
     "text": [
      "2022-10-21 15:34:27,650 - distributed.diskutils - INFO - Found stale lock file and directory '/tmp/dask-worker-space/worker-ihwf7yzu', purging\n"
     ]
    }
   ],
   "source": [
    "client = Client() # n_workers=2, threads_per_worker=2, memory_limit='500MB'"
   ]
  },
  {
   "cell_type": "code",
   "execution_count": null,
   "id": "62494967-d979-4c9a-80b9-98d0729073e7",
   "metadata": {},
   "outputs": [],
   "source": [
    "import dask.array as da\n",
    "import xarray as xr\n",
    "import numpy as np"
   ]
  },
  {
   "cell_type": "code",
   "execution_count": null,
   "id": "0b2f4cdf-2040-425d-be0f-cb4fb82e452f",
   "metadata": {},
   "outputs": [],
   "source": [
    "# Mimic all steps in preprocessing with dask arrays\n",
    "\n",
    "# Generate fake inputs\n",
    "da.random.RandomState(42)\n",
    "sp = da.random.random((24, 641, 1440), chunks=(1, -1, -1))\n",
    "q = da.random.random((24, 22, 641, 1440), chunks=(1, -1, -1, -1))\n",
    "u = da.random.random((24, 22, 641, 1440), chunks=(1, -1, -1, -1))\n",
    "v = da.random.random((24, 22, 641, 1440), chunks=(1, -1, -1, -1))\n",
    "\n",
    "# Get dp\n",
    "dp = sp[:, None, ...]\n",
    "\n",
    "# Calculate cwv\n",
    "cwv = dp * q\n",
    "\n",
    "# Calculate fluxes\n",
    "fx = u * cwv\n",
    "fy = v * cwv\n",
    "\n",
    "# Aggregate to two layers\n",
    "s_lower = cwv[:, :10, ...].sum(axis=1)\n",
    "s_upper = cwv[:, 10:, ...].sum(axis=1)\n",
    "\n",
    "fx_lower = fx[:, :10, ...].sum(axis=1)\n",
    "fx_upper = fx[:, 10:, ...].sum(axis=1)\n",
    "\n",
    "fy_lower = fy[:, :10, ...].sum(axis=1)\n",
    "fy_upper = fy[:, 10:, ...].sum(axis=1)"
   ]
  },
  {
   "cell_type": "code",
   "execution_count": null,
   "id": "01e604f3-9d64-4f0c-9589-6fef8e0c3364",
   "metadata": {},
   "outputs": [
    {
     "name": "stdout",
     "output_type": "stream",
     "text": [
      "CPU times: user 650 ms, sys: 98.4 ms, total: 749 ms\n",
      "Wall time: 11.1 s\n"
     ]
    }
   ],
   "source": [
    "%%time\n",
    "# Final output to netcdf with xarray\n",
    "dims3 = ['time', 'latitude', 'longitude']\n",
    "dims4 = ['time', 'level', 'latitude', 'longitude']\n",
    "xr.Dataset({\n",
    "    's_upper': xr.DataArray(s_upper, dims=dims3),\n",
    "    's_lower': xr.DataArray(s_lower, dims=dims3),\n",
    "    'fx_upper': xr.DataArray(s_upper, dims=dims3),\n",
    "    'fx_lower': xr.DataArray(s_lower, dims=dims3),\n",
    "    'fy_upper': xr.DataArray(s_upper, dims=dims3),\n",
    "    'fy_lower': xr.DataArray(s_lower, dims=dims3),\n",
    "    \n",
    "}).to_netcdf('/data/volume_2/test_peter/test3.nc')"
   ]
  },
  {
   "cell_type": "code",
   "execution_count": null,
   "id": "7d48ccad-f744-4b3a-8075-a1f5e3f3032d",
   "metadata": {},
   "outputs": [],
   "source": [
    "# %%time\n",
    "# # Now with xarray (current implementation)\n",
    "\n",
    "# # Generate fake inputs\n",
    "# xrsp = xr.DataArray(sp, dims=dims3, name='sp')\n",
    "# xrq = xr.DataArray(q, dims=dims4, name='q')\n",
    "# xru = xr.DataArray(q, dims=dims4, name='u')\n",
    "# xrv = xr.DataArray(q, dims=dims4, name='v')\n",
    "\n",
    "# # Get dp\n",
    "# xrdp = xrsp.expand_dims(level=range(22), axis=1)\n",
    "\n",
    "# # Calculate cwv\n",
    "# xrcwv = xrdp * xrq\n",
    "\n",
    "# # Calculate fluxes \n",
    "# xrfx = xrcwv * xru\n",
    "# xrfy = xrcwv * xrv\n",
    "\n",
    "# # Aggregate to two layers\n",
    "# lower = xrdp.level > 10\n",
    "# xrs_upper = xrcwv.where(~lower).sum('level')\n",
    "# xrs_lower = xrcwv.where(lower).sum('level')\n",
    "\n",
    "# xrfx_upper = xrfx.where(~lower).sum('level')\n",
    "# xrfx_lower = xrfx.where(lower).sum('level')\n",
    "\n",
    "# xrfy_upper = xrfy.where(~lower).sum('level')\n",
    "# xrfy_lower = xrfy.where(lower).sum('level')\n",
    "\n",
    "# # Realize data to disk\n",
    "# xr.Dataset({\n",
    "#     's_upper': xrs_upper,\n",
    "#     's_lower': xrs_lower,\n",
    "#     'fx_upper': xrfx_upper,\n",
    "#     'fx_lower': xrfx_lower,\n",
    "#     'fy_upper': xrfy_upper,\n",
    "#     'fy_lower': xrfy_lower,\n",
    "# }).to_netcdf('/data/volume_2/test_peter/test.nc')"
   ]
  },
  {
   "cell_type": "code",
   "execution_count": null,
   "id": "87581277-3cd4-4567-865c-8b427f19e054",
   "metadata": {},
   "outputs": [
    {
     "name": "stdout",
     "output_type": "stream",
     "text": [
      "CPU times: user 922 ms, sys: 142 ms, total: 1.06 s\n",
      "Wall time: 19.2 s\n"
     ]
    }
   ],
   "source": [
    "%%time\n",
    "# Now with xarray (optimized)\n",
    "\n",
    "# Generate fake inputs\n",
    "xrsp = xr.DataArray(sp, dims=dims3, name='sp')\n",
    "xrq = xr.DataArray(q, dims=dims4, name='q')\n",
    "xru = xr.DataArray(q, dims=dims4, name='u')\n",
    "xrv = xr.DataArray(q, dims=dims4, name='v')\n",
    "\n",
    "# Get dp\n",
    "xrdp = xrsp.expand_dims(level=range(22), axis=1)\n",
    "\n",
    "# Calculate cwv\n",
    "xrcwv = xrdp * xrq\n",
    "\n",
    "# Calculate fluxes \n",
    "xrfx = xrcwv * xru\n",
    "xrfy = xrcwv * xrv\n",
    "\n",
    "# Aggregate to two layers\n",
    "idx = xrdp.level.searchsorted(10, side='right')\n",
    "upper = np.s_[:, :idx, :, :]\n",
    "lower = np.s_[:, idx:, :, :]\n",
    "\n",
    "xrs_upper = xrcwv[upper].sum('level')\n",
    "xrs_lower = xrcwv[lower].sum('level')\n",
    "\n",
    "xrfx_upper = xrfx[upper].sum('level')\n",
    "xrfx_lower = xrfx[lower].sum('level')\n",
    "\n",
    "xrfy_upper = xrfy[upper].sum('level')\n",
    "xrfy_lower = xrfy[lower].sum('level')\n",
    "\n",
    "# Realize data to disk\n",
    "xr.Dataset({\n",
    "    's_upper': xrs_upper,\n",
    "    's_lower': xrs_lower,\n",
    "    'fx_upper': xrfx_upper,\n",
    "    'fx_lower': xrfx_lower,\n",
    "    'fy_upper': xrfy_upper,\n",
    "    'fy_lower': xrfy_lower,\n",
    "}).to_netcdf('/data/volume_2/test_peter/test2.nc')"
   ]
  },
  {
   "cell_type": "code",
   "execution_count": null,
   "id": "556f6da1-a7a2-4c06-a363-d66207593a3e",
   "metadata": {},
   "outputs": [],
   "source": [
    "before = xr.open_dataset('/data/volume_2/test_peter/test.nc')\n",
    "after =  xr.open_dataset('/data/volume_2/test_peter/test2.nc')\n",
    "before == after"
   ]
  },
  {
   "cell_type": "code",
   "execution_count": null,
   "id": "776e2ff2-d93e-4afb-b4a3-3851d71e5eb2",
   "metadata": {},
   "outputs": [],
   "source": [
    "np.all(before==after)"
   ]
  }
 ],
 "metadata": {
  "kernelspec": {
   "display_name": "WAM2layers",
   "language": "python",
   "name": "wam2layers"
  },
  "language_info": {
   "codemirror_mode": {
    "name": "ipython",
    "version": 3
   },
   "file_extension": ".py",
   "mimetype": "text/x-python",
   "name": "python",
   "nbconvert_exporter": "python",
   "pygments_lexer": "ipython3",
   "version": "3.9.13"
  }
 },
 "nbformat": 4,
 "nbformat_minor": 5
}
